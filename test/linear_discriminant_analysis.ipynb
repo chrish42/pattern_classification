{
 "metadata": {
  "name": "",
  "signature": "sha256:77f3eeface3109b2c6b8ef84d75e86b1112deb6b7e4f01ebe1a067f950593158"
 },
 "nbformat": 3,
 "nbformat_minor": 0,
 "worksheets": [
  {
   "cells": [
    {
     "cell_type": "code",
     "collapsed": false,
     "input": [
      "%load_ext watermark"
     ],
     "language": "python",
     "metadata": {},
     "outputs": [],
     "prompt_number": 1
    },
    {
     "cell_type": "code",
     "collapsed": false,
     "input": [
      "%watermark -v -d -u -p pandas,scikit-learn,numpy,matplotlib "
     ],
     "language": "python",
     "metadata": {},
     "outputs": [
      {
       "output_type": "stream",
       "stream": "stdout",
       "text": [
        "Last updated: 30/07/2014 \n",
        "\n",
        "CPython 3.4.1\n",
        "IPython 2.0.0\n",
        "\n",
        "pandas 0.14.0\n",
        "scikit-learn 0.15.0b1\n",
        "numpy 1.8.1\n",
        "matplotlib 1.3.1\n"
       ]
      }
     ],
     "prompt_number": 2
    },
    {
     "cell_type": "markdown",
     "metadata": {},
     "source": [
      "<font size=\"1.5em\">[More information](http://nbviewer.ipython.org/github/rasbt/python_reference/blob/master/ipython_magic/watermark.ipynb) about the `watermark` magic command extension.</font>"
     ]
    },
    {
     "cell_type": "heading",
     "level": 1,
     "metadata": {},
     "source": [
      "Linear Discriminant Analysis"
     ]
    },
    {
     "cell_type": "markdown",
     "metadata": {},
     "source": [
      "Section links:\n",
      "\n",
      "- [Step-by-step-approach](#Step-by-step-approach)\n",
      "- [Step-by-step-approach with standardized data](#Step-by-step-approach-with-standardized-data)\n",
      "- [Step-by-step-approach with mean-centered data](#Step-by-step-approach-with-mean-centered-data)\n",
      "- [scikit LDA](#scikit-LDA)"
     ]
    },
    {
     "cell_type": "markdown",
     "metadata": {},
     "source": [
      "<br>\n",
      "<br>"
     ]
    },
    {
     "cell_type": "markdown",
     "metadata": {},
     "source": [
      "<br>\n",
      "<br>"
     ]
    },
    {
     "cell_type": "heading",
     "level": 1,
     "metadata": {},
     "source": [
      "Step by step approach"
     ]
    },
    {
     "cell_type": "heading",
     "level": 2,
     "metadata": {},
     "source": [
      "Preparing the sample data set"
     ]
    },
    {
     "cell_type": "code",
     "collapsed": false,
     "input": [
      "feature_dict = {i:label for i,label in zip(\n",
      "                range(4),\n",
      "                  ('sepal length in cm', \n",
      "                  'sepal width in cm', \n",
      "                  'petal length in cm', \n",
      "                  'petal width in cm', ))}"
     ],
     "language": "python",
     "metadata": {},
     "outputs": [],
     "prompt_number": 3
    },
    {
     "cell_type": "code",
     "collapsed": false,
     "input": [
      "import pandas as pd\n",
      "\n",
      "df = pd.io.parsers.read_csv(\n",
      "    filepath_or_buffer='https://archive.ics.uci.edu/ml/machine-learning-databases/iris/iris.data', \n",
      "    header=None, \n",
      "    sep=',', \n",
      "    )\n",
      "df.columns = [l for i,l in sorted(feature_dict.items())] + ['class label']\n",
      "df.dropna(how=\"all\", inplace=True) # to drop the empty line at file-end\n",
      "\n",
      "df.tail()"
     ],
     "language": "python",
     "metadata": {},
     "outputs": [
      {
       "output_type": "stream",
       "stream": "stderr",
       "text": [
        "/Users/sebastian/miniconda3/envs/py34/lib/python3.4/site-packages/pandas/io/excel.py:626: UserWarning: Installed openpyxl is not supported at this time. Use >=1.6.1 and <2.0.0.\n",
        "  .format(openpyxl_compat.start_ver, openpyxl_compat.stop_ver))\n"
       ]
      },
      {
       "html": [
        "<div style=\"max-height:1000px;max-width:1500px;overflow:auto;\">\n",
        "<table border=\"1\" class=\"dataframe\">\n",
        "  <thead>\n",
        "    <tr style=\"text-align: right;\">\n",
        "      <th></th>\n",
        "      <th>sepal length in cm</th>\n",
        "      <th>sepal width in cm</th>\n",
        "      <th>petal length in cm</th>\n",
        "      <th>petal width in cm</th>\n",
        "      <th>class label</th>\n",
        "    </tr>\n",
        "  </thead>\n",
        "  <tbody>\n",
        "    <tr>\n",
        "      <th>145</th>\n",
        "      <td> 6.7</td>\n",
        "      <td> 3.0</td>\n",
        "      <td> 5.2</td>\n",
        "      <td> 2.3</td>\n",
        "      <td> Iris-virginica</td>\n",
        "    </tr>\n",
        "    <tr>\n",
        "      <th>146</th>\n",
        "      <td> 6.3</td>\n",
        "      <td> 2.5</td>\n",
        "      <td> 5.0</td>\n",
        "      <td> 1.9</td>\n",
        "      <td> Iris-virginica</td>\n",
        "    </tr>\n",
        "    <tr>\n",
        "      <th>147</th>\n",
        "      <td> 6.5</td>\n",
        "      <td> 3.0</td>\n",
        "      <td> 5.2</td>\n",
        "      <td> 2.0</td>\n",
        "      <td> Iris-virginica</td>\n",
        "    </tr>\n",
        "    <tr>\n",
        "      <th>148</th>\n",
        "      <td> 6.2</td>\n",
        "      <td> 3.4</td>\n",
        "      <td> 5.4</td>\n",
        "      <td> 2.3</td>\n",
        "      <td> Iris-virginica</td>\n",
        "    </tr>\n",
        "    <tr>\n",
        "      <th>149</th>\n",
        "      <td> 5.9</td>\n",
        "      <td> 3.0</td>\n",
        "      <td> 5.1</td>\n",
        "      <td> 1.8</td>\n",
        "      <td> Iris-virginica</td>\n",
        "    </tr>\n",
        "  </tbody>\n",
        "</table>\n",
        "</div>"
       ],
       "metadata": {},
       "output_type": "pyout",
       "prompt_number": 4,
       "text": [
        "     sepal length in cm  sepal width in cm  petal length in cm  \\\n",
        "145                 6.7                3.0                 5.2   \n",
        "146                 6.3                2.5                 5.0   \n",
        "147                 6.5                3.0                 5.2   \n",
        "148                 6.2                3.4                 5.4   \n",
        "149                 5.9                3.0                 5.1   \n",
        "\n",
        "     petal width in cm     class label  \n",
        "145                2.3  Iris-virginica  \n",
        "146                1.9  Iris-virginica  \n",
        "147                2.0  Iris-virginica  \n",
        "148                2.3  Iris-virginica  \n",
        "149                1.8  Iris-virginica  "
       ]
      }
     ],
     "prompt_number": 4
    },
    {
     "cell_type": "code",
     "collapsed": false,
     "input": [
      "from sklearn.preprocessing import LabelEncoder\n",
      "\n",
      "X = df[[0,1,2,3]].values \n",
      "y = df['class label'].values \n",
      "\n",
      "enc = LabelEncoder()\n",
      "label_encoder = enc.fit(y)\n",
      "y = label_encoder.transform(y) + 1\n",
      "\n",
      "label_dict = {1: 'Setosa', 2: 'Versicolor', 3:'Virginica'}"
     ],
     "language": "python",
     "metadata": {},
     "outputs": [],
     "prompt_number": 5
    },
    {
     "cell_type": "markdown",
     "metadata": {},
     "source": [
      "$\\pmb y = \\begin{bmatrix}{\\text{setosa}}\\\\ \n",
      "{\\text{setosa}}\\\\ \n",
      "...  \\\\\n",
      "{\\text{virginica}}\\end{bmatrix} \\quad \\Rightarrow\n",
      "\\begin{bmatrix} {\\text{1}}\\\\ \n",
      "{\\text{1}}\\\\ \n",
      "...  \\\\\n",
      "{\\text{3}}\\end{bmatrix}$\n",
      "\n"
     ]
    },
    {
     "cell_type": "markdown",
     "metadata": {},
     "source": [
      "<a name=\"sample_data\"></a>\n",
      "<br>\n",
      "<br>"
     ]
    },
    {
     "cell_type": "heading",
     "level": 2,
     "metadata": {},
     "source": [
      "Step 1: Computing the d-dimensional mean vectors"
     ]
    },
    {
     "cell_type": "code",
     "collapsed": false,
     "input": [
      "import numpy as np\n",
      "\n",
      "mean_vectors = []\n",
      "for cl in range(1,4):\n",
      "    mean_vectors.append(np.mean(X[y==cl], axis=0))\n",
      "    print('Mean Vector class %s: %s\\n' %(cl, mean_vectors[cl-1]))"
     ],
     "language": "python",
     "metadata": {},
     "outputs": [
      {
       "output_type": "stream",
       "stream": "stdout",
       "text": [
        "Mean Vector class 1: [ 5.006  3.418  1.464  0.244]\n",
        "\n",
        "Mean Vector class 2: [ 5.936  2.77   4.26   1.326]\n",
        "\n",
        "Mean Vector class 3: [ 6.588  2.974  5.552  2.026]\n",
        "\n"
       ]
      }
     ],
     "prompt_number": 6
    },
    {
     "cell_type": "markdown",
     "metadata": {},
     "source": [
      "<a name=\"sample_data\"></a>\n",
      "<br>\n",
      "<br>"
     ]
    },
    {
     "cell_type": "markdown",
     "metadata": {},
     "source": [
      "<a name=\"sc_matrix\"></a>"
     ]
    },
    {
     "cell_type": "heading",
     "level": 2,
     "metadata": {},
     "source": [
      "\n",
      "Step 2: Computing the Scatter Matrices"
     ]
    },
    {
     "cell_type": "markdown",
     "metadata": {},
     "source": [
      "\n",
      "### 2.1 Within-class scatter matrix $S_W$"
     ]
    },
    {
     "cell_type": "markdown",
     "metadata": {},
     "source": [
      "The **within-class scatter** matrix $S_W$ is computed by the following equation:  \n",
      "\n",
      "$S_W = \\sum\\limits_{i=1}^{c} S_i$\n",
      "\n",
      "where  \n",
      "$S_i = \\sum\\limits_{\\pmb x \\in D_i}^n (\\pmb x - \\pmb m_i)\\;(\\pmb x - \\pmb m_i)^T$  \n",
      "(scatter matrix for every class) \n",
      "\n",
      "and $\\pmb m_i$ is the mean vector    \n",
      "$\\pmb m_i = \\frac{1}{n_i} \\sum\\limits_{\\pmb x \\in D_i}^n \\; \\pmb x_k$"
     ]
    },
    {
     "cell_type": "code",
     "collapsed": false,
     "input": [
      "S_W = np.zeros((4,4))\n",
      "for cl,mv in zip(range(1,4), mean_vectors):\n",
      "    class_sc_mat = np.zeros((4,4))                  # scatter matrix for every class\n",
      "    for row in X[y == cl]:\n",
      "        row, mv = row.reshape(4,1), mv.reshape(4,1) # make row vectors\n",
      "        class_sc_mat += (row-mv).dot((row-mv).T)\n",
      "    S_W += class_sc_mat                             # sum class scatter matrices\n",
      "print('within-class Scatter Matrix:\\n', S_W)"
     ],
     "language": "python",
     "metadata": {},
     "outputs": [
      {
       "output_type": "stream",
       "stream": "stdout",
       "text": [
        "within-class Scatter Matrix:\n",
        " [[ 38.9562  13.683   24.614    5.6556]\n",
        " [ 13.683   17.035    8.12     4.9132]\n",
        " [ 24.614    8.12    27.22     6.2536]\n",
        " [  5.6556   4.9132   6.2536   6.1756]]\n"
       ]
      }
     ],
     "prompt_number": 7
    },
    {
     "cell_type": "markdown",
     "metadata": {},
     "source": [
      "<br>\n",
      "<br>"
     ]
    },
    {
     "cell_type": "markdown",
     "metadata": {},
     "source": [
      "\n",
      "### 2.1 Between-class scatter matrix $S_B$"
     ]
    },
    {
     "cell_type": "markdown",
     "metadata": {},
     "source": [
      "The **between-class scatter** matrix $S_B$ is computed by the following equation:  \n",
      "\n",
      "$S_B = \\sum\\limits_{i=1}^{c} (\\pmb m_i - \\pmb m) (\\pmb m_i - \\pmb m)^T$\n",
      "\n",
      "where  \n",
      " $\\pmb m$ is the overall mean."
     ]
    },
    {
     "cell_type": "code",
     "collapsed": false,
     "input": [
      "overall_mean = np.mean(mean_vectors, axis=0)\n",
      "\n",
      "S_B = np.zeros((4,4))\n",
      "for mean_vec in mean_vectors:  \n",
      "    mean_vec = mean_vec.reshape(4,1) # make row vector\n",
      "    S_B += (mean_vec - overall_mean).dot((mean_vec - overall_mean).T)\n",
      "    \n",
      "print('between-class Scatter Matrix:\\n', S_B)"
     ],
     "language": "python",
     "metadata": {},
     "outputs": [
      {
       "output_type": "stream",
       "stream": "stdout",
       "text": [
        "between-class Scatter Matrix:\n",
        " [[ 106.15440267   19.88250933   54.780864    -25.826624  ]\n",
        " [  19.88250933   36.0358       27.20903467   42.47901867]\n",
        " [  54.780864     27.20903467   69.11946933   40.07822133]\n",
        " [ -25.826624     42.47901867   40.07822133  101.15470133]]\n"
       ]
      }
     ],
     "prompt_number": 8
    },
    {
     "cell_type": "markdown",
     "metadata": {},
     "source": [
      "<br>\n",
      "<br>"
     ]
    },
    {
     "cell_type": "heading",
     "level": 2,
     "metadata": {},
     "source": [
      "3. Solving the generalized eigenvalue problem for the matrix $S_{W}^{-1}S_B$"
     ]
    },
    {
     "cell_type": "code",
     "collapsed": false,
     "input": [
      "eig_vals, eig_vecs = np.linalg.eig(np.linalg.inv(S_W).dot(S_B))\n",
      "\n",
      "for i in range(len(eig_vals)):\n",
      "    eigvec_sc = eig_vecs[:,i].reshape(4,1)   \n",
      "    print('\\nEigenvector {}: \\n{}'.format(i+1, eigvec_sc))\n",
      "    print('Eigenvalue {}: {}'.format(i+1, eig_vals[i]))"
     ],
     "language": "python",
     "metadata": {},
     "outputs": [
      {
       "output_type": "stream",
       "stream": "stdout",
       "text": [
        "\n",
        "Eigenvector 1: \n",
        "[[-0.19112143]\n",
        " [-0.02974373]\n",
        " [ 0.00557403]\n",
        " [ 0.98109981]]\n",
        "Eigenvalue 1: 21.192781373749376\n",
        "\n",
        "Eigenvector 2: \n",
        "[[-0.4707491 ]\n",
        " [ 0.5256577 ]\n",
        " [ 0.47241471]\n",
        " [-0.52811325]]\n",
        "Eigenvalue 2: 0.000809210920370725\n",
        "\n",
        "Eigenvector 3: \n",
        "[[ 0.61057582]\n",
        " [-0.05386131]\n",
        " [ 0.78662355]\n",
        " [ 0.07429338]]\n",
        "Eigenvalue 3: 2.449579479824032\n",
        "\n",
        "Eigenvector 4: \n",
        "[[ 0.34180647]\n",
        " [ 0.64271212]\n",
        " [-0.67699803]\n",
        " [ 0.10845792]]\n",
        "Eigenvalue 4: 1.514215432510455\n"
       ]
      }
     ],
     "prompt_number": 9
    },
    {
     "cell_type": "markdown",
     "metadata": {},
     "source": [
      "### Checking the eigenvector-eigenvalue calculation\n",
      "\n",
      "Let us quickly check that the eigenvector-eigenvalue calculation is correct and satisfy the equation\n",
      "\n",
      "$\\pmb A\\pmb{v} =  \\lambda\\pmb{v}$  \n",
      "\n",
      "<br>\n",
      "where  \n",
      "$\\pmb A = S_{W}^{-1}S_B\\\\\n",
      "\\pmb{v} = \\; Eigenvector\\\\\n",
      "\\lambda = \\; Eigenvalue$"
     ]
    },
    {
     "cell_type": "code",
     "collapsed": false,
     "input": [
      "for i in range(len(eig_vals)):\n",
      "    eigv = eig_vecs[:,i].reshape(4,1) \n",
      "    np.testing.assert_array_almost_equal(np.linalg.inv(S_W).dot(S_B).dot(eigv), \n",
      "                                         eig_vals[i] * eigv, \n",
      "                                         decimal=6, err_msg='', verbose=True)\n",
      "print('ok')"
     ],
     "language": "python",
     "metadata": {},
     "outputs": [
      {
       "output_type": "stream",
       "stream": "stdout",
       "text": [
        "ok\n"
       ]
      }
     ],
     "prompt_number": 10
    },
    {
     "cell_type": "markdown",
     "metadata": {},
     "source": [
      "<a name=\"sort_eig\"></a>"
     ]
    },
    {
     "cell_type": "heading",
     "level": 2,
     "metadata": {},
     "source": [
      "4.1. Sorting the eigenvectors by decreasing eigenvalues\n"
     ]
    },
    {
     "cell_type": "code",
     "collapsed": false,
     "input": [
      "# Make a list of (eigenvalue, eigenvector) tuples\n",
      "eig_pairs = [(np.abs(eig_vals[i]), eig_vecs[:,i]) for i in range(len(eig_vals))]\n",
      "\n",
      "# Sort the (eigenvalue, eigenvector) tuples from high to low\n",
      "eig_pairs.sort()\n",
      "eig_pairs.reverse()\n",
      "\n",
      "# Visually confirm that the list is correctly sorted by decreasing eigenvalues\n",
      "for i in eig_pairs:\n",
      "    print(i[0])"
     ],
     "language": "python",
     "metadata": {},
     "outputs": [
      {
       "output_type": "stream",
       "stream": "stdout",
       "text": [
        "21.1927813737\n",
        "2.44957947982\n",
        "1.51421543251\n",
        "0.000809210920371\n"
       ]
      }
     ],
     "prompt_number": 11
    },
    {
     "cell_type": "heading",
     "level": 2,
     "metadata": {},
     "source": [
      "4.2. Choosing *k* eigenvectors with the largest eigenvalues"
     ]
    },
    {
     "cell_type": "markdown",
     "metadata": {},
     "source": [
      "\n",
      "For our simple example, where we are reducing a 3-dimensional feature space to a 2-dimensional feature subspace, we are combining the two eigenvectors with the highest eigenvalues to construct our $d \\times k$-dimensional eigenvector matrix $\\pmb W$."
     ]
    },
    {
     "cell_type": "code",
     "collapsed": false,
     "input": [
      "matrix_w = np.hstack((eig_pairs[0][1].reshape(4,1), eig_pairs[1][1].reshape(4,1)))\n",
      "print('Matrix W:\\n', matrix_w)"
     ],
     "language": "python",
     "metadata": {},
     "outputs": [
      {
       "output_type": "stream",
       "stream": "stdout",
       "text": [
        "Matrix W:\n",
        " [[-0.19112143  0.61057582]\n",
        " [-0.02974373 -0.05386131]\n",
        " [ 0.00557403  0.78662355]\n",
        " [ 0.98109981  0.07429338]]\n"
       ]
      }
     ],
     "prompt_number": 12
    },
    {
     "cell_type": "markdown",
     "metadata": {},
     "source": [
      "<a name='transform'></a>"
     ]
    },
    {
     "cell_type": "heading",
     "level": 2,
     "metadata": {},
     "source": [
      "5. Transforming the samples onto the new subspace\n"
     ]
    },
    {
     "cell_type": "markdown",
     "metadata": {},
     "source": [
      "In the last step, we use the $2 \\times 4$-dimensional matrix $\\pmb W$ that we just computed to transform our samples onto the new subspace via the equation  $\\pmb y = \\pmb W^T \\times \\pmb x$."
     ]
    },
    {
     "cell_type": "code",
     "collapsed": false,
     "input": [
      "X_lda = matrix_w.T.dot(X.T).T\n",
      "assert X_lda.shape == (150,2), \"The matrix is not 2x150 dimensional.\""
     ],
     "language": "python",
     "metadata": {},
     "outputs": [],
     "prompt_number": 13
    },
    {
     "cell_type": "code",
     "collapsed": false,
     "input": [
      "%matplotlib inline"
     ],
     "language": "python",
     "metadata": {},
     "outputs": [],
     "prompt_number": 14
    },
    {
     "cell_type": "code",
     "collapsed": false,
     "input": [
      "from matplotlib import pyplot as plt\n",
      "\n",
      "for label,marker,color in zip(\n",
      "        range(1,4),('o', '^', 's'),('red', 'green', 'blue')):\n",
      "\n",
      "\n",
      "    plt.scatter(x=X_lda[:,0][y == label],\n",
      "            y=X_lda[:,1][y == label],\n",
      "            marker=marker,\n",
      "            color=color,\n",
      "            alpha=0.5,\n",
      "            label=label_dict[label]\n",
      "            )\n",
      "\n",
      "plt.xlabel('linear discriminant 1')\n",
      "plt.ylabel('linear discriminant 2')\n",
      "\n",
      "plt.legend(loc='upper left')\n",
      "plt.title('Iris projection onto the first 2 linear discriminants')\n",
      "\n",
      "plt.show()"
     ],
     "language": "python",
     "metadata": {},
     "outputs": [
      {
       "metadata": {},
       "output_type": "display_data",
       "png": "[encoded data removed]",
       "text": [
        "<matplotlib.figure.Figure at 0x109bcf908>"
       ]
      }
     ],
     "prompt_number": 15
    },
    {
     "cell_type": "markdown",
     "metadata": {},
     "source": [
      "<br>\n",
      "<br>\n",
      "<br>"
     ]
    },
    {
     "cell_type": "markdown",
     "metadata": {},
     "source": [
      "<br>\n",
      "<br>\n",
      "<br>"
     ]
    },
    {
     "cell_type": "heading",
     "level": 1,
     "metadata": {},
     "source": [
      "Step-by-step-approach with standardized data"
     ]
    },
    {
     "cell_type": "code",
     "collapsed": false,
     "input": [
      "from sklearn import preprocessing\n",
      "\n",
      "std_scale = preprocessing.StandardScaler().fit(X)\n",
      "X = std_scale.transform(X)\n",
      "\n",
      "mean_vectors = []\n",
      "for cl in range(1,4):\n",
      "    mean_vectors.append(np.mean(X[y==cl], axis=0))\n",
      "    \n",
      "S_W = np.zeros((4,4))\n",
      "for cl,mv in zip(range(1,4), mean_vectors):\n",
      "    class_sc_mat = np.zeros((4,4))                  # scatter matrix for every class\n",
      "    for row in X[y == cl]:\n",
      "        row, mv = row.reshape(4,1), mv.reshape(4,1) # make row vectors\n",
      "        class_sc_mat += (row-mv).dot((row-mv).T)\n",
      "    S_W += class_sc_mat                             # sum class scatter matrices\n",
      "\n",
      "overall_mean = np.mean(mean_vectors, axis=0)\n",
      "\n",
      "S_B = np.zeros((4,4))\n",
      "for mean_vec in mean_vectors:  \n",
      "    mean_vec = mean_vec.reshape(4,1) # make row vector\n",
      "    S_B += (mean_vec - overall_mean).dot((mean_vec - overall_mean).T)\n",
      "    \n",
      "    \n",
      "eig_vals, eig_vecs = np.linalg.eig(np.linalg.inv(S_W).dot(S_B))\n",
      "\n",
      "# Make a list of (eigenvalue, eigenvector) tuples\n",
      "eig_pairs = [(np.abs(eig_vals[i]), eig_vecs[:,i]) for i in range(len(eig_vals))]\n",
      "\n",
      "# Sort the (eigenvalue, eigenvector) tuples from high to low\n",
      "eig_pairs.sort()\n",
      "eig_pairs.reverse()\n",
      "\n",
      "matrix_w = np.hstack((eig_pairs[0][1].reshape(4,1), eig_pairs[1][1].reshape(4,1)))\n",
      "\n",
      "X_lda = matrix_w.T.dot(X.T).T"
     ],
     "language": "python",
     "metadata": {},
     "outputs": [],
     "prompt_number": 16
    },
    {
     "cell_type": "code",
     "collapsed": false,
     "input": [
      "for label,marker,color in zip(\n",
      "        range(1,4),('o', '^', 's'),('red', 'green', 'blue')):\n",
      "\n",
      "\n",
      "    plt.scatter(x=X_lda[:,0][y == label]*(-1),\n",
      "            y=X_lda[:,1][y == label],\n",
      "            marker=marker,\n",
      "            color=color,\n",
      "            alpha=0.5,\n",
      "            label=label_dict[label]\n",
      "            )\n",
      "\n",
      "plt.xlabel('linear discriminant 1')\n",
      "plt.ylabel('linear discriminant 2')\n",
      "\n",
      "plt.legend(loc='lower left')\n",
      "plt.title('Iris projection onto the first 2 linear discriminants')\n",
      "\n",
      "plt.show()"
     ],
     "language": "python",
     "metadata": {},
     "outputs": [
      {
       "metadata": {},
       "output_type": "display_data",
       "png": "[encoded data removed]",
       "text": [
        "<matplotlib.figure.Figure at 0x109bf82b0>"
       ]
      }
     ],
     "prompt_number": 17
    },
    {
     "cell_type": "markdown",
     "metadata": {},
     "source": [
      "<br>\n",
      "<br>\n",
      "<br>"
     ]
    },
    {
     "cell_type": "heading",
     "level": 1,
     "metadata": {},
     "source": [
      "Step-by-step-approach with mean-centered data"
     ]
    },
    {
     "cell_type": "code",
     "collapsed": false,
     "input": [
      "from sklearn import preprocessing\n",
      "\n",
      "df = pd.io.parsers.read_csv(\n",
      "    filepath_or_buffer='https://archive.ics.uci.edu/ml/machine-learning-databases/iris/iris.data', \n",
      "    header=None, \n",
      "    sep=',', \n",
      "    )\n",
      "df.columns = [l for i,l in sorted(feature_dict.items())] + ['class label']\n",
      "df.dropna(how=\"all\", inplace=True) # to drop the empty line at file-end\n",
      "\n",
      "X = df[[0,1,2,3]].values \n",
      "y = df['class label'].values \n",
      "\n",
      "enc = LabelEncoder()\n",
      "label_encoder = enc.fit(y)\n",
      "y = label_encoder.transform(y) + 1\n",
      "\n",
      "X = preprocessing.scale(X, axis=0, with_mean=True, with_std=False, copy=True)\n",
      "\n",
      "mean_vectors = []\n",
      "for cl in range(1,4):\n",
      "    mean_vectors.append(np.mean(X[y==cl], axis=0))\n",
      "    \n",
      "S_W = np.zeros((4,4))\n",
      "for cl,mv in zip(range(1,4), mean_vectors):\n",
      "    class_sc_mat = np.zeros((4,4))                  # scatter matrix for every class\n",
      "    for row in X[y == cl]:\n",
      "        row, mv = row.reshape(4,1), mv.reshape(4,1) # make row vectors\n",
      "        class_sc_mat += (row-mv).dot((row-mv).T)\n",
      "    S_W += class_sc_mat                             # sum class scatter matrices\n",
      "\n",
      "overall_mean = np.mean(mean_vectors, axis=0)\n",
      "\n",
      "S_B = np.zeros((4,4))\n",
      "for mean_vec in mean_vectors:  \n",
      "    mean_vec = mean_vec.reshape(4,1) # make row vector\n",
      "    S_B += (mean_vec - overall_mean).dot((mean_vec - overall_mean).T)\n",
      "    \n",
      "    \n",
      "eig_vals, eig_vecs = np.linalg.eig(np.linalg.inv(S_W).dot(S_B))\n",
      "\n",
      "# Make a list of (eigenvalue, eigenvector) tuples\n",
      "eig_pairs = [(np.abs(eig_vals[i]), eig_vecs[:,i]) for i in range(len(eig_vals))]\n",
      "\n",
      "# Sort the (eigenvalue, eigenvector) tuples from high to low\n",
      "eig_pairs.sort()\n",
      "eig_pairs.reverse()\n",
      "\n",
      "matrix_w = np.hstack((eig_pairs[0][1].reshape(4,1), eig_pairs[1][1].reshape(4,1)))\n",
      "\n",
      "X_lda = matrix_w.T.dot(X.T).T"
     ],
     "language": "python",
     "metadata": {},
     "outputs": [],
     "prompt_number": 22
    },
    {
     "cell_type": "code",
     "collapsed": false,
     "input": [
      "for label,marker,color in zip(\n",
      "        range(1,4),('o', '^', 's'),('red', 'green', 'blue')):\n",
      "\n",
      "\n",
      "    plt.scatter(x=X_lda[:,0][y == label],\n",
      "            y=X_lda[:,1][y == label],\n",
      "            marker=marker,\n",
      "            color=color,\n",
      "            alpha=0.5,\n",
      "            label=label_dict[label]\n",
      "            )\n",
      "\n",
      "plt.xlabel('linear discriminant 1')\n",
      "plt.ylabel('linear discriminant 2')\n",
      "\n",
      "plt.legend(loc='lower left')\n",
      "plt.title('Iris projection onto the first 2 linear discriminants')\n",
      "\n",
      "plt.show()"
     ],
     "language": "python",
     "metadata": {},
     "outputs": [
      {
       "metadata": {},
       "output_type": "display_data",
       "png": "[encoded data removed]",
       "text": [
        "<matplotlib.figure.Figure at 0x109cf5b70>"
       ]
      }
     ],
     "prompt_number": 23
    },
    {
     "cell_type": "markdown",
     "metadata": {},
     "source": [
      "<br>\n",
      "<br>\n",
      "<br>"
     ]
    },
    {
     "cell_type": "markdown",
     "metadata": {},
     "source": [
      "<br>\n",
      "<br>\n",
      "<br>"
     ]
    },
    {
     "cell_type": "heading",
     "level": 1,
     "metadata": {},
     "source": [
      "scikit LDA"
     ]
    },
    {
     "cell_type": "code",
     "collapsed": false,
     "input": [
      "import pandas as pd\n",
      "\n",
      "df = pd.io.parsers.read_csv(\n",
      "    filepath_or_buffer='https://archive.ics.uci.edu/ml/machine-learning-databases/iris/iris.data', \n",
      "    header=None, \n",
      "    sep=',', \n",
      "    )\n",
      "df.columns = ['sepal length in cm', \n",
      "              'sepal width in cm', \n",
      "              'petal length in cm', \n",
      "              'petal width in cm', \n",
      "              'class label'\n",
      "              ]\n",
      "\n",
      "df.dropna(how=\"all\", inplace=True) # to drop the empty line at file-end\n",
      "\n",
      "df.tail()\n"
     ],
     "language": "python",
     "metadata": {},
     "outputs": [
      {
       "html": [
        "<div style=\"max-height:1000px;max-width:1500px;overflow:auto;\">\n",
        "<table border=\"1\" class=\"dataframe\">\n",
        "  <thead>\n",
        "    <tr style=\"text-align: right;\">\n",
        "      <th></th>\n",
        "      <th>sepal length in cm</th>\n",
        "      <th>sepal width in cm</th>\n",
        "      <th>petal length in cm</th>\n",
        "      <th>petal width in cm</th>\n",
        "      <th>class label</th>\n",
        "    </tr>\n",
        "  </thead>\n",
        "  <tbody>\n",
        "    <tr>\n",
        "      <th>145</th>\n",
        "      <td> 6.7</td>\n",
        "      <td> 3.0</td>\n",
        "      <td> 5.2</td>\n",
        "      <td> 2.3</td>\n",
        "      <td> Iris-virginica</td>\n",
        "    </tr>\n",
        "    <tr>\n",
        "      <th>146</th>\n",
        "      <td> 6.3</td>\n",
        "      <td> 2.5</td>\n",
        "      <td> 5.0</td>\n",
        "      <td> 1.9</td>\n",
        "      <td> Iris-virginica</td>\n",
        "    </tr>\n",
        "    <tr>\n",
        "      <th>147</th>\n",
        "      <td> 6.5</td>\n",
        "      <td> 3.0</td>\n",
        "      <td> 5.2</td>\n",
        "      <td> 2.0</td>\n",
        "      <td> Iris-virginica</td>\n",
        "    </tr>\n",
        "    <tr>\n",
        "      <th>148</th>\n",
        "      <td> 6.2</td>\n",
        "      <td> 3.4</td>\n",
        "      <td> 5.4</td>\n",
        "      <td> 2.3</td>\n",
        "      <td> Iris-virginica</td>\n",
        "    </tr>\n",
        "    <tr>\n",
        "      <th>149</th>\n",
        "      <td> 5.9</td>\n",
        "      <td> 3.0</td>\n",
        "      <td> 5.1</td>\n",
        "      <td> 1.8</td>\n",
        "      <td> Iris-virginica</td>\n",
        "    </tr>\n",
        "  </tbody>\n",
        "</table>\n",
        "</div>"
       ],
       "metadata": {},
       "output_type": "pyout",
       "prompt_number": 24,
       "text": [
        "     sepal length in cm  sepal width in cm  petal length in cm  \\\n",
        "145                 6.7                3.0                 5.2   \n",
        "146                 6.3                2.5                 5.0   \n",
        "147                 6.5                3.0                 5.2   \n",
        "148                 6.2                3.4                 5.4   \n",
        "149                 5.9                3.0                 5.1   \n",
        "\n",
        "     petal width in cm     class label  \n",
        "145                2.3  Iris-virginica  \n",
        "146                1.9  Iris-virginica  \n",
        "147                2.0  Iris-virginica  \n",
        "148                2.3  Iris-virginica  \n",
        "149                1.8  Iris-virginica  "
       ]
      }
     ],
     "prompt_number": 24
    },
    {
     "cell_type": "code",
     "collapsed": false,
     "input": [
      "from sklearn.preprocessing import LabelEncoder\n",
      "\n",
      "X = df[[0,1,2,3]].values \n",
      "y = df['class label'].values \n",
      "\n",
      "enc = LabelEncoder()\n",
      "label_encoder = enc.fit(y)\n",
      "y = label_encoder.transform(y)"
     ],
     "language": "python",
     "metadata": {},
     "outputs": [],
     "prompt_number": 25
    },
    {
     "cell_type": "code",
     "collapsed": false,
     "input": [
      "from sklearn.lda import LDA\n",
      "sklearn_lda = LDA(n_components=2)\n",
      "transf_lda = sklearn_lda.fit_transform(X, y)"
     ],
     "language": "python",
     "metadata": {},
     "outputs": [],
     "prompt_number": 26
    },
    {
     "cell_type": "code",
     "collapsed": false,
     "input": [
      "%matplotlib inline"
     ],
     "language": "python",
     "metadata": {},
     "outputs": [],
     "prompt_number": 27
    },
    {
     "cell_type": "code",
     "collapsed": false,
     "input": [
      "from matplotlib import pyplot as plt\n",
      "\n",
      "for label,marker,color in zip(\n",
      "        range(3),('o', '^', 's'),('red', 'green', 'blue')):\n",
      "\n",
      "\n",
      "    plt.scatter(x=transf_lda[:,0][y == label],\n",
      "            y=transf_lda[:,1][y == label],\n",
      "            marker=marker,\n",
      "            color=color,\n",
      "            alpha=0.5,\n",
      "            label=label_dict[label+1]\n",
      "            )\n",
      "\n",
      "plt.xlabel('linear discriminant 1')\n",
      "plt.ylabel('linear discriminant 2')\n",
      "\n",
      "plt.legend(loc='lower left')\n",
      "plt.title('Iris projection onto the first 2 linear discriminants (using scikit-learn)')\n",
      "\n",
      "plt.show()"
     ],
     "language": "python",
     "metadata": {},
     "outputs": [
      {
       "metadata": {},
       "output_type": "display_data",
       "png": "[encoded data removed]",
       "text": [
        "<matplotlib.figure.Figure at 0x109c8d9b0>"
       ]
      }
     ],
     "prompt_number": 37
    },
    {
     "cell_type": "code",
     "collapsed": false,
     "input": [
      "from sklearn.decomposition import PCA\n",
      "sklearn_pca = PCA(n_components=2)\n",
      "transf_pca = sklearn_pca.fit_transform(transf_lda)"
     ],
     "language": "python",
     "metadata": {},
     "outputs": [],
     "prompt_number": 35
    },
    {
     "cell_type": "code",
     "collapsed": false,
     "input": [
      "#transf_pca *= -1 # for mirroring\n",
      "\n",
      "from matplotlib import pyplot as plt\n",
      "\n",
      "for label,marker,color in zip(\n",
      "        range(3),('o', '^', 's'),('red', 'green', 'blue')):\n",
      "\n",
      "\n",
      "    plt.scatter(x=transf_pca[:,0][y == label] * -1,  # *-1  for mirroring\n",
      "            y=transf_pca[:,1][y == label],\n",
      "            marker=marker,\n",
      "            color=color,\n",
      "            alpha=0.5,\n",
      "            label=label_dict[label+1]\n",
      "            )\n",
      "\n",
      "plt.xlabel('PC1')\n",
      "plt.ylabel('PC2')\n",
      "\n",
      "plt.legend(loc='lower left')\n",
      "plt.title('Iris projection after LDA and PCA')\n",
      "\n",
      "plt.show()"
     ],
     "language": "python",
     "metadata": {},
     "outputs": [
      {
       "metadata": {},
       "output_type": "display_data",
       "png": "[encoded data removed]",
       "text": [
        "<matplotlib.figure.Figure at 0x109bf5710>"
       ]
      }
     ],
     "prompt_number": 38
    },
    {
     "cell_type": "code",
     "collapsed": false,
     "input": [],
     "language": "python",
     "metadata": {},
     "outputs": [],
     "prompt_number": 34
    },
    {
     "cell_type": "code",
     "collapsed": false,
     "input": [],
     "language": "python",
     "metadata": {},
     "outputs": []
    }
   ],
   "metadata": {}
  }
 ]
}